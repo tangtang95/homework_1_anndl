{
 "cells": [
  {
   "cell_type": "code",
   "execution_count": 1,
   "metadata": {
    "pycharm": {
     "is_executing": false
    }
   },
   "outputs": [],
   "source": [
    "from IPython.core.interactiveshell import InteractiveShell\n",
    "InteractiveShell.ast_node_interactivity = \"all\""
   ]
  },
  {
   "cell_type": "markdown",
   "metadata": {},
   "source": [
    "# Loading the training set"
   ]
  },
  {
   "cell_type": "code",
   "execution_count": 21,
   "metadata": {},
   "outputs": [],
   "source": [
    "import os\n",
    "import tensorflow as tf\n",
    "import numpy as np\n",
    "from os.path import dirname\n",
    "\n",
    "# Set the seed for random operations. \n",
    "# This let our experiments to be reproducible. \n",
    "SEED = 1234\n",
    "tf.random.set_seed(SEED)  \n",
    "\n",
    "# Get current working directory\n",
    "cwd = os.getcwd()\n",
    "parent_cwd = dirname(cwd)"
   ]
  },
  {
   "cell_type": "code",
   "execution_count": 24,
   "metadata": {},
   "outputs": [],
   "source": [
    "# Defining training directory\n",
    "dataset_dir = os.path.join(parent_cwd, \"data\")\n",
    "dataset_dir = os.path.join(dataset_dir, \"Classification_Dataset\")\n",
    "dataset_dir = os.path.join(dataset_dir, \"training\")"
   ]
  },
  {
   "cell_type": "code",
   "execution_count": 29,
   "metadata": {},
   "outputs": [
    {
     "name": "stdout",
     "output_type": "stream",
     "text": [
      "Found 1554 images belonging to 20 classes.\n"
     ]
    }
   ],
   "source": [
    "# ImageDataGenerator\n",
    "# ------------------\n",
    "\n",
    "from tensorflow.keras.preprocessing.image import ImageDataGenerator\n",
    "\n",
    "train_data_gen = ImageDataGenerator(rescale=1./255)\n",
    "\n",
    "bs = 8\n",
    "img_h = 256\n",
    "img_w = 256\n",
    "\n",
    "train_gen = train_data_gen.flow_from_directory(dataset_dir,\n",
    "                                               batch_size=bs, \n",
    "                                               class_mode='categorical',\n",
    "                                               shuffle=True,\n",
    "                                               seed=SEED)  # targets are directly converted into one-hot vectors\n"
   ]
  },
  {
   "cell_type": "code",
   "execution_count": 30,
   "metadata": {},
   "outputs": [],
   "source": [
    "num_classes = 20"
   ]
  },
  {
   "cell_type": "code",
   "execution_count": 31,
   "metadata": {},
   "outputs": [],
   "source": [
    "train_dataset = tf.data.Dataset.from_generator(lambda: train_gen,\n",
    "                                               output_types=(tf.float32, tf.float32),\n",
    "                                               output_shapes=([None, img_h, img_w, 3], [None, num_classes]))\n"
   ]
  },
  {
   "cell_type": "code",
   "execution_count": 34,
   "metadata": {},
   "outputs": [
    {
     "data": {
      "text/plain": [
       "<bound method DatasetV2.enumerate of <DatasetV1Adapter shapes: ((None, 256, 256, 3), (None, 20)), types: (tf.float32, tf.float32)>>"
      ]
     },
     "execution_count": 34,
     "metadata": {},
     "output_type": "execute_result"
    }
   ],
   "source": []
  },
  {
   "cell_type": "code",
   "execution_count": 37,
   "metadata": {},
   "outputs": [
    {
     "data": {
      "application/javascript": [
       "/* Put everything inside the global mpl namespace */\n",
       "window.mpl = {};\n",
       "\n",
       "\n",
       "mpl.get_websocket_type = function() {\n",
       "    if (typeof(WebSocket) !== 'undefined') {\n",
       "        return WebSocket;\n",
       "    } else if (typeof(MozWebSocket) !== 'undefined') {\n",
       "        return MozWebSocket;\n",
       "    } else {\n",
       "        alert('Your browser does not have WebSocket support. ' +\n",
       "              'Please try Chrome, Safari or Firefox ≥ 6. ' +\n",
       "              'Firefox 4 and 5 are also supported but you ' +\n",
       "              'have to enable WebSockets in about:config.');\n",
       "    };\n",
       "}\n",
       "\n",
       "mpl.figure = function(figure_id, websocket, ondownload, parent_element) {\n",
       "    this.id = figure_id;\n",
       "\n",
       "    this.ws = websocket;\n",
       "\n",
       "    this.supports_binary = (this.ws.binaryType != undefined);\n",
       "\n",
       "    if (!this.supports_binary) {\n",
       "        var warnings = document.getElementById(\"mpl-warnings\");\n",
       "        if (warnings) {\n",
       "            warnings.style.display = 'block';\n",
       "            warnings.textContent = (\n",
       "                \"This browser does not support binary websocket messages. \" +\n",
       "                    \"Performance may be slow.\");\n",
       "        }\n",
       "    }\n",
       "\n",
       "    this.imageObj = new Image();\n",
       "\n",
       "    this.context = undefined;\n",
       "    this.message = undefined;\n",
       "    this.canvas = undefined;\n",
       "    this.rubberband_canvas = undefined;\n",
       "    this.rubberband_context = undefined;\n",
       "    this.format_dropdown = undefined;\n",
       "\n",
       "    this.image_mode = 'full';\n",
       "\n",
       "    this.root = $('<div/>');\n",
       "    this._root_extra_style(this.root)\n",
       "    this.root.attr('style', 'display: inline-block');\n",
       "\n",
       "    $(parent_element).append(this.root);\n",
       "\n",
       "    this._init_header(this);\n",
       "    this._init_canvas(this);\n",
       "    this._init_toolbar(this);\n",
       "\n",
       "    var fig = this;\n",
       "\n",
       "    this.waiting = false;\n",
       "\n",
       "    this.ws.onopen =  function () {\n",
       "            fig.send_message(\"supports_binary\", {value: fig.supports_binary});\n",
       "            fig.send_message(\"send_image_mode\", {});\n",
       "            if (mpl.ratio != 1) {\n",
       "                fig.send_message(\"set_dpi_ratio\", {'dpi_ratio': mpl.ratio});\n",
       "            }\n",
       "            fig.send_message(\"refresh\", {});\n",
       "        }\n",
       "\n",
       "    this.imageObj.onload = function() {\n",
       "            if (fig.image_mode == 'full') {\n",
       "                // Full images could contain transparency (where diff images\n",
       "                // almost always do), so we need to clear the canvas so that\n",
       "                // there is no ghosting.\n",
       "                fig.context.clearRect(0, 0, fig.canvas.width, fig.canvas.height);\n",
       "            }\n",
       "            fig.context.drawImage(fig.imageObj, 0, 0);\n",
       "        };\n",
       "\n",
       "    this.imageObj.onunload = function() {\n",
       "        fig.ws.close();\n",
       "    }\n",
       "\n",
       "    this.ws.onmessage = this._make_on_message_function(this);\n",
       "\n",
       "    this.ondownload = ondownload;\n",
       "}\n",
       "\n",
       "mpl.figure.prototype._init_header = function() {\n",
       "    var titlebar = $(\n",
       "        '<div class=\"ui-dialog-titlebar ui-widget-header ui-corner-all ' +\n",
       "        'ui-helper-clearfix\"/>');\n",
       "    var titletext = $(\n",
       "        '<div class=\"ui-dialog-title\" style=\"width: 100%; ' +\n",
       "        'text-align: center; padding: 3px;\"/>');\n",
       "    titlebar.append(titletext)\n",
       "    this.root.append(titlebar);\n",
       "    this.header = titletext[0];\n",
       "}\n",
       "\n",
       "\n",
       "\n",
       "mpl.figure.prototype._canvas_extra_style = function(canvas_div) {\n",
       "\n",
       "}\n",
       "\n",
       "\n",
       "mpl.figure.prototype._root_extra_style = function(canvas_div) {\n",
       "\n",
       "}\n",
       "\n",
       "mpl.figure.prototype._init_canvas = function() {\n",
       "    var fig = this;\n",
       "\n",
       "    var canvas_div = $('<div/>');\n",
       "\n",
       "    canvas_div.attr('style', 'position: relative; clear: both; outline: 0');\n",
       "\n",
       "    function canvas_keyboard_event(event) {\n",
       "        return fig.key_event(event, event['data']);\n",
       "    }\n",
       "\n",
       "    canvas_div.keydown('key_press', canvas_keyboard_event);\n",
       "    canvas_div.keyup('key_release', canvas_keyboard_event);\n",
       "    this.canvas_div = canvas_div\n",
       "    this._canvas_extra_style(canvas_div)\n",
       "    this.root.append(canvas_div);\n",
       "\n",
       "    var canvas = $('<canvas/>');\n",
       "    canvas.addClass('mpl-canvas');\n",
       "    canvas.attr('style', \"left: 0; top: 0; z-index: 0; outline: 0\")\n",
       "\n",
       "    this.canvas = canvas[0];\n",
       "    this.context = canvas[0].getContext(\"2d\");\n",
       "\n",
       "    var backingStore = this.context.backingStorePixelRatio ||\n",
       "\tthis.context.webkitBackingStorePixelRatio ||\n",
       "\tthis.context.mozBackingStorePixelRatio ||\n",
       "\tthis.context.msBackingStorePixelRatio ||\n",
       "\tthis.context.oBackingStorePixelRatio ||\n",
       "\tthis.context.backingStorePixelRatio || 1;\n",
       "\n",
       "    mpl.ratio = (window.devicePixelRatio || 1) / backingStore;\n",
       "\n",
       "    var rubberband = $('<canvas/>');\n",
       "    rubberband.attr('style', \"position: absolute; left: 0; top: 0; z-index: 1;\")\n",
       "\n",
       "    var pass_mouse_events = true;\n",
       "\n",
       "    canvas_div.resizable({\n",
       "        start: function(event, ui) {\n",
       "            pass_mouse_events = false;\n",
       "        },\n",
       "        resize: function(event, ui) {\n",
       "            fig.request_resize(ui.size.width, ui.size.height);\n",
       "        },\n",
       "        stop: function(event, ui) {\n",
       "            pass_mouse_events = true;\n",
       "            fig.request_resize(ui.size.width, ui.size.height);\n",
       "        },\n",
       "    });\n",
       "\n",
       "    function mouse_event_fn(event) {\n",
       "        if (pass_mouse_events)\n",
       "            return fig.mouse_event(event, event['data']);\n",
       "    }\n",
       "\n",
       "    rubberband.mousedown('button_press', mouse_event_fn);\n",
       "    rubberband.mouseup('button_release', mouse_event_fn);\n",
       "    // Throttle sequential mouse events to 1 every 20ms.\n",
       "    rubberband.mousemove('motion_notify', mouse_event_fn);\n",
       "\n",
       "    rubberband.mouseenter('figure_enter', mouse_event_fn);\n",
       "    rubberband.mouseleave('figure_leave', mouse_event_fn);\n",
       "\n",
       "    canvas_div.on(\"wheel\", function (event) {\n",
       "        event = event.originalEvent;\n",
       "        event['data'] = 'scroll'\n",
       "        if (event.deltaY < 0) {\n",
       "            event.step = 1;\n",
       "        } else {\n",
       "            event.step = -1;\n",
       "        }\n",
       "        mouse_event_fn(event);\n",
       "    });\n",
       "\n",
       "    canvas_div.append(canvas);\n",
       "    canvas_div.append(rubberband);\n",
       "\n",
       "    this.rubberband = rubberband;\n",
       "    this.rubberband_canvas = rubberband[0];\n",
       "    this.rubberband_context = rubberband[0].getContext(\"2d\");\n",
       "    this.rubberband_context.strokeStyle = \"#000000\";\n",
       "\n",
       "    this._resize_canvas = function(width, height) {\n",
       "        // Keep the size of the canvas, canvas container, and rubber band\n",
       "        // canvas in synch.\n",
       "        canvas_div.css('width', width)\n",
       "        canvas_div.css('height', height)\n",
       "\n",
       "        canvas.attr('width', width * mpl.ratio);\n",
       "        canvas.attr('height', height * mpl.ratio);\n",
       "        canvas.attr('style', 'width: ' + width + 'px; height: ' + height + 'px;');\n",
       "\n",
       "        rubberband.attr('width', width);\n",
       "        rubberband.attr('height', height);\n",
       "    }\n",
       "\n",
       "    // Set the figure to an initial 600x600px, this will subsequently be updated\n",
       "    // upon first draw.\n",
       "    this._resize_canvas(600, 600);\n",
       "\n",
       "    // Disable right mouse context menu.\n",
       "    $(this.rubberband_canvas).bind(\"contextmenu\",function(e){\n",
       "        return false;\n",
       "    });\n",
       "\n",
       "    function set_focus () {\n",
       "        canvas.focus();\n",
       "        canvas_div.focus();\n",
       "    }\n",
       "\n",
       "    window.setTimeout(set_focus, 100);\n",
       "}\n",
       "\n",
       "mpl.figure.prototype._init_toolbar = function() {\n",
       "    var fig = this;\n",
       "\n",
       "    var nav_element = $('<div/>');\n",
       "    nav_element.attr('style', 'width: 100%');\n",
       "    this.root.append(nav_element);\n",
       "\n",
       "    // Define a callback function for later on.\n",
       "    function toolbar_event(event) {\n",
       "        return fig.toolbar_button_onclick(event['data']);\n",
       "    }\n",
       "    function toolbar_mouse_event(event) {\n",
       "        return fig.toolbar_button_onmouseover(event['data']);\n",
       "    }\n",
       "\n",
       "    for(var toolbar_ind in mpl.toolbar_items) {\n",
       "        var name = mpl.toolbar_items[toolbar_ind][0];\n",
       "        var tooltip = mpl.toolbar_items[toolbar_ind][1];\n",
       "        var image = mpl.toolbar_items[toolbar_ind][2];\n",
       "        var method_name = mpl.toolbar_items[toolbar_ind][3];\n",
       "\n",
       "        if (!name) {\n",
       "            // put a spacer in here.\n",
       "            continue;\n",
       "        }\n",
       "        var button = $('<button/>');\n",
       "        button.addClass('ui-button ui-widget ui-state-default ui-corner-all ' +\n",
       "                        'ui-button-icon-only');\n",
       "        button.attr('role', 'button');\n",
       "        button.attr('aria-disabled', 'false');\n",
       "        button.click(method_name, toolbar_event);\n",
       "        button.mouseover(tooltip, toolbar_mouse_event);\n",
       "\n",
       "        var icon_img = $('<span/>');\n",
       "        icon_img.addClass('ui-button-icon-primary ui-icon');\n",
       "        icon_img.addClass(image);\n",
       "        icon_img.addClass('ui-corner-all');\n",
       "\n",
       "        var tooltip_span = $('<span/>');\n",
       "        tooltip_span.addClass('ui-button-text');\n",
       "        tooltip_span.html(tooltip);\n",
       "\n",
       "        button.append(icon_img);\n",
       "        button.append(tooltip_span);\n",
       "\n",
       "        nav_element.append(button);\n",
       "    }\n",
       "\n",
       "    var fmt_picker_span = $('<span/>');\n",
       "\n",
       "    var fmt_picker = $('<select/>');\n",
       "    fmt_picker.addClass('mpl-toolbar-option ui-widget ui-widget-content');\n",
       "    fmt_picker_span.append(fmt_picker);\n",
       "    nav_element.append(fmt_picker_span);\n",
       "    this.format_dropdown = fmt_picker[0];\n",
       "\n",
       "    for (var ind in mpl.extensions) {\n",
       "        var fmt = mpl.extensions[ind];\n",
       "        var option = $(\n",
       "            '<option/>', {selected: fmt === mpl.default_extension}).html(fmt);\n",
       "        fmt_picker.append(option);\n",
       "    }\n",
       "\n",
       "    // Add hover states to the ui-buttons\n",
       "    $( \".ui-button\" ).hover(\n",
       "        function() { $(this).addClass(\"ui-state-hover\");},\n",
       "        function() { $(this).removeClass(\"ui-state-hover\");}\n",
       "    );\n",
       "\n",
       "    var status_bar = $('<span class=\"mpl-message\"/>');\n",
       "    nav_element.append(status_bar);\n",
       "    this.message = status_bar[0];\n",
       "}\n",
       "\n",
       "mpl.figure.prototype.request_resize = function(x_pixels, y_pixels) {\n",
       "    // Request matplotlib to resize the figure. Matplotlib will then trigger a resize in the client,\n",
       "    // which will in turn request a refresh of the image.\n",
       "    this.send_message('resize', {'width': x_pixels, 'height': y_pixels});\n",
       "}\n",
       "\n",
       "mpl.figure.prototype.send_message = function(type, properties) {\n",
       "    properties['type'] = type;\n",
       "    properties['figure_id'] = this.id;\n",
       "    this.ws.send(JSON.stringify(properties));\n",
       "}\n",
       "\n",
       "mpl.figure.prototype.send_draw_message = function() {\n",
       "    if (!this.waiting) {\n",
       "        this.waiting = true;\n",
       "        this.ws.send(JSON.stringify({type: \"draw\", figure_id: this.id}));\n",
       "    }\n",
       "}\n",
       "\n",
       "\n",
       "mpl.figure.prototype.handle_save = function(fig, msg) {\n",
       "    var format_dropdown = fig.format_dropdown;\n",
       "    var format = format_dropdown.options[format_dropdown.selectedIndex].value;\n",
       "    fig.ondownload(fig, format);\n",
       "}\n",
       "\n",
       "\n",
       "mpl.figure.prototype.handle_resize = function(fig, msg) {\n",
       "    var size = msg['size'];\n",
       "    if (size[0] != fig.canvas.width || size[1] != fig.canvas.height) {\n",
       "        fig._resize_canvas(size[0], size[1]);\n",
       "        fig.send_message(\"refresh\", {});\n",
       "    };\n",
       "}\n",
       "\n",
       "mpl.figure.prototype.handle_rubberband = function(fig, msg) {\n",
       "    var x0 = msg['x0'] / mpl.ratio;\n",
       "    var y0 = (fig.canvas.height - msg['y0']) / mpl.ratio;\n",
       "    var x1 = msg['x1'] / mpl.ratio;\n",
       "    var y1 = (fig.canvas.height - msg['y1']) / mpl.ratio;\n",
       "    x0 = Math.floor(x0) + 0.5;\n",
       "    y0 = Math.floor(y0) + 0.5;\n",
       "    x1 = Math.floor(x1) + 0.5;\n",
       "    y1 = Math.floor(y1) + 0.5;\n",
       "    var min_x = Math.min(x0, x1);\n",
       "    var min_y = Math.min(y0, y1);\n",
       "    var width = Math.abs(x1 - x0);\n",
       "    var height = Math.abs(y1 - y0);\n",
       "\n",
       "    fig.rubberband_context.clearRect(\n",
       "        0, 0, fig.canvas.width / mpl.ratio, fig.canvas.height / mpl.ratio);\n",
       "\n",
       "    fig.rubberband_context.strokeRect(min_x, min_y, width, height);\n",
       "}\n",
       "\n",
       "mpl.figure.prototype.handle_figure_label = function(fig, msg) {\n",
       "    // Updates the figure title.\n",
       "    fig.header.textContent = msg['label'];\n",
       "}\n",
       "\n",
       "mpl.figure.prototype.handle_cursor = function(fig, msg) {\n",
       "    var cursor = msg['cursor'];\n",
       "    switch(cursor)\n",
       "    {\n",
       "    case 0:\n",
       "        cursor = 'pointer';\n",
       "        break;\n",
       "    case 1:\n",
       "        cursor = 'default';\n",
       "        break;\n",
       "    case 2:\n",
       "        cursor = 'crosshair';\n",
       "        break;\n",
       "    case 3:\n",
       "        cursor = 'move';\n",
       "        break;\n",
       "    }\n",
       "    fig.rubberband_canvas.style.cursor = cursor;\n",
       "}\n",
       "\n",
       "mpl.figure.prototype.handle_message = function(fig, msg) {\n",
       "    fig.message.textContent = msg['message'];\n",
       "}\n",
       "\n",
       "mpl.figure.prototype.handle_draw = function(fig, msg) {\n",
       "    // Request the server to send over a new figure.\n",
       "    fig.send_draw_message();\n",
       "}\n",
       "\n",
       "mpl.figure.prototype.handle_image_mode = function(fig, msg) {\n",
       "    fig.image_mode = msg['mode'];\n",
       "}\n",
       "\n",
       "mpl.figure.prototype.updated_canvas_event = function() {\n",
       "    // Called whenever the canvas gets updated.\n",
       "    this.send_message(\"ack\", {});\n",
       "}\n",
       "\n",
       "// A function to construct a web socket function for onmessage handling.\n",
       "// Called in the figure constructor.\n",
       "mpl.figure.prototype._make_on_message_function = function(fig) {\n",
       "    return function socket_on_message(evt) {\n",
       "        if (evt.data instanceof Blob) {\n",
       "            /* FIXME: We get \"Resource interpreted as Image but\n",
       "             * transferred with MIME type text/plain:\" errors on\n",
       "             * Chrome.  But how to set the MIME type?  It doesn't seem\n",
       "             * to be part of the websocket stream */\n",
       "            evt.data.type = \"image/png\";\n",
       "\n",
       "            /* Free the memory for the previous frames */\n",
       "            if (fig.imageObj.src) {\n",
       "                (window.URL || window.webkitURL).revokeObjectURL(\n",
       "                    fig.imageObj.src);\n",
       "            }\n",
       "\n",
       "            fig.imageObj.src = (window.URL || window.webkitURL).createObjectURL(\n",
       "                evt.data);\n",
       "            fig.updated_canvas_event();\n",
       "            fig.waiting = false;\n",
       "            return;\n",
       "        }\n",
       "        else if (typeof evt.data === 'string' && evt.data.slice(0, 21) == \"data:image/png;base64\") {\n",
       "            fig.imageObj.src = evt.data;\n",
       "            fig.updated_canvas_event();\n",
       "            fig.waiting = false;\n",
       "            return;\n",
       "        }\n",
       "\n",
       "        var msg = JSON.parse(evt.data);\n",
       "        var msg_type = msg['type'];\n",
       "\n",
       "        // Call the  \"handle_{type}\" callback, which takes\n",
       "        // the figure and JSON message as its only arguments.\n",
       "        try {\n",
       "            var callback = fig[\"handle_\" + msg_type];\n",
       "        } catch (e) {\n",
       "            console.log(\"No handler for the '\" + msg_type + \"' message type: \", msg);\n",
       "            return;\n",
       "        }\n",
       "\n",
       "        if (callback) {\n",
       "            try {\n",
       "                // console.log(\"Handling '\" + msg_type + \"' message: \", msg);\n",
       "                callback(fig, msg);\n",
       "            } catch (e) {\n",
       "                console.log(\"Exception inside the 'handler_\" + msg_type + \"' callback:\", e, e.stack, msg);\n",
       "            }\n",
       "        }\n",
       "    };\n",
       "}\n",
       "\n",
       "// from http://stackoverflow.com/questions/1114465/getting-mouse-location-in-canvas\n",
       "mpl.findpos = function(e) {\n",
       "    //this section is from http://www.quirksmode.org/js/events_properties.html\n",
       "    var targ;\n",
       "    if (!e)\n",
       "        e = window.event;\n",
       "    if (e.target)\n",
       "        targ = e.target;\n",
       "    else if (e.srcElement)\n",
       "        targ = e.srcElement;\n",
       "    if (targ.nodeType == 3) // defeat Safari bug\n",
       "        targ = targ.parentNode;\n",
       "\n",
       "    // jQuery normalizes the pageX and pageY\n",
       "    // pageX,Y are the mouse positions relative to the document\n",
       "    // offset() returns the position of the element relative to the document\n",
       "    var x = e.pageX - $(targ).offset().left;\n",
       "    var y = e.pageY - $(targ).offset().top;\n",
       "\n",
       "    return {\"x\": x, \"y\": y};\n",
       "};\n",
       "\n",
       "/*\n",
       " * return a copy of an object with only non-object keys\n",
       " * we need this to avoid circular references\n",
       " * http://stackoverflow.com/a/24161582/3208463\n",
       " */\n",
       "function simpleKeys (original) {\n",
       "  return Object.keys(original).reduce(function (obj, key) {\n",
       "    if (typeof original[key] !== 'object')\n",
       "        obj[key] = original[key]\n",
       "    return obj;\n",
       "  }, {});\n",
       "}\n",
       "\n",
       "mpl.figure.prototype.mouse_event = function(event, name) {\n",
       "    var canvas_pos = mpl.findpos(event)\n",
       "\n",
       "    if (name === 'button_press')\n",
       "    {\n",
       "        this.canvas.focus();\n",
       "        this.canvas_div.focus();\n",
       "    }\n",
       "\n",
       "    var x = canvas_pos.x * mpl.ratio;\n",
       "    var y = canvas_pos.y * mpl.ratio;\n",
       "\n",
       "    this.send_message(name, {x: x, y: y, button: event.button,\n",
       "                             step: event.step,\n",
       "                             guiEvent: simpleKeys(event)});\n",
       "\n",
       "    /* This prevents the web browser from automatically changing to\n",
       "     * the text insertion cursor when the button is pressed.  We want\n",
       "     * to control all of the cursor setting manually through the\n",
       "     * 'cursor' event from matplotlib */\n",
       "    event.preventDefault();\n",
       "    return false;\n",
       "}\n",
       "\n",
       "mpl.figure.prototype._key_event_extra = function(event, name) {\n",
       "    // Handle any extra behaviour associated with a key event\n",
       "}\n",
       "\n",
       "mpl.figure.prototype.key_event = function(event, name) {\n",
       "\n",
       "    // Prevent repeat events\n",
       "    if (name == 'key_press')\n",
       "    {\n",
       "        if (event.which === this._key)\n",
       "            return;\n",
       "        else\n",
       "            this._key = event.which;\n",
       "    }\n",
       "    if (name == 'key_release')\n",
       "        this._key = null;\n",
       "\n",
       "    var value = '';\n",
       "    if (event.ctrlKey && event.which != 17)\n",
       "        value += \"ctrl+\";\n",
       "    if (event.altKey && event.which != 18)\n",
       "        value += \"alt+\";\n",
       "    if (event.shiftKey && event.which != 16)\n",
       "        value += \"shift+\";\n",
       "\n",
       "    value += 'k';\n",
       "    value += event.which.toString();\n",
       "\n",
       "    this._key_event_extra(event, name);\n",
       "\n",
       "    this.send_message(name, {key: value,\n",
       "                             guiEvent: simpleKeys(event)});\n",
       "    return false;\n",
       "}\n",
       "\n",
       "mpl.figure.prototype.toolbar_button_onclick = function(name) {\n",
       "    if (name == 'download') {\n",
       "        this.handle_save(this, null);\n",
       "    } else {\n",
       "        this.send_message(\"toolbar_button\", {name: name});\n",
       "    }\n",
       "};\n",
       "\n",
       "mpl.figure.prototype.toolbar_button_onmouseover = function(tooltip) {\n",
       "    this.message.textContent = tooltip;\n",
       "};\n",
       "mpl.toolbar_items = [[\"Home\", \"Reset original view\", \"fa fa-home icon-home\", \"home\"], [\"Back\", \"Back to previous view\", \"fa fa-arrow-left icon-arrow-left\", \"back\"], [\"Forward\", \"Forward to next view\", \"fa fa-arrow-right icon-arrow-right\", \"forward\"], [\"\", \"\", \"\", \"\"], [\"Pan\", \"Pan axes with left mouse, zoom with right\", \"fa fa-arrows icon-move\", \"pan\"], [\"Zoom\", \"Zoom to rectangle\", \"fa fa-square-o icon-check-empty\", \"zoom\"], [\"\", \"\", \"\", \"\"], [\"Download\", \"Download plot\", \"fa fa-floppy-o icon-save\", \"download\"]];\n",
       "\n",
       "mpl.extensions = [\"eps\", \"jpeg\", \"pdf\", \"png\", \"ps\", \"raw\", \"svg\", \"tif\"];\n",
       "\n",
       "mpl.default_extension = \"png\";var comm_websocket_adapter = function(comm) {\n",
       "    // Create a \"websocket\"-like object which calls the given IPython comm\n",
       "    // object with the appropriate methods. Currently this is a non binary\n",
       "    // socket, so there is still some room for performance tuning.\n",
       "    var ws = {};\n",
       "\n",
       "    ws.close = function() {\n",
       "        comm.close()\n",
       "    };\n",
       "    ws.send = function(m) {\n",
       "        //console.log('sending', m);\n",
       "        comm.send(m);\n",
       "    };\n",
       "    // Register the callback with on_msg.\n",
       "    comm.on_msg(function(msg) {\n",
       "        //console.log('receiving', msg['content']['data'], msg);\n",
       "        // Pass the mpl event to the overridden (by mpl) onmessage function.\n",
       "        ws.onmessage(msg['content']['data'])\n",
       "    });\n",
       "    return ws;\n",
       "}\n",
       "\n",
       "mpl.mpl_figure_comm = function(comm, msg) {\n",
       "    // This is the function which gets called when the mpl process\n",
       "    // starts-up an IPython Comm through the \"matplotlib\" channel.\n",
       "\n",
       "    var id = msg.content.data.id;\n",
       "    // Get hold of the div created by the display call when the Comm\n",
       "    // socket was opened in Python.\n",
       "    var element = $(\"#\" + id);\n",
       "    var ws_proxy = comm_websocket_adapter(comm)\n",
       "\n",
       "    function ondownload(figure, format) {\n",
       "        window.open(figure.imageObj.src);\n",
       "    }\n",
       "\n",
       "    var fig = new mpl.figure(id, ws_proxy,\n",
       "                           ondownload,\n",
       "                           element.get(0));\n",
       "\n",
       "    // Call onopen now - mpl needs it, as it is assuming we've passed it a real\n",
       "    // web socket which is closed, not our websocket->open comm proxy.\n",
       "    ws_proxy.onopen();\n",
       "\n",
       "    fig.parent_element = element.get(0);\n",
       "    fig.cell_info = mpl.find_output_cell(\"<div id='\" + id + \"'></div>\");\n",
       "    if (!fig.cell_info) {\n",
       "        console.error(\"Failed to find cell for figure\", id, fig);\n",
       "        return;\n",
       "    }\n",
       "\n",
       "    var output_index = fig.cell_info[2]\n",
       "    var cell = fig.cell_info[0];\n",
       "\n",
       "};\n",
       "\n",
       "mpl.figure.prototype.handle_close = function(fig, msg) {\n",
       "    var width = fig.canvas.width/mpl.ratio\n",
       "    fig.root.unbind('remove')\n",
       "\n",
       "    // Update the output cell to use the data from the current canvas.\n",
       "    fig.push_to_output();\n",
       "    var dataURL = fig.canvas.toDataURL();\n",
       "    // Re-enable the keyboard manager in IPython - without this line, in FF,\n",
       "    // the notebook keyboard shortcuts fail.\n",
       "    IPython.keyboard_manager.enable()\n",
       "    $(fig.parent_element).html('<img src=\"' + dataURL + '\" width=\"' + width + '\">');\n",
       "    fig.close_ws(fig, msg);\n",
       "}\n",
       "\n",
       "mpl.figure.prototype.close_ws = function(fig, msg){\n",
       "    fig.send_message('closing', msg);\n",
       "    // fig.ws.close()\n",
       "}\n",
       "\n",
       "mpl.figure.prototype.push_to_output = function(remove_interactive) {\n",
       "    // Turn the data on the canvas into data in the output cell.\n",
       "    var width = this.canvas.width/mpl.ratio\n",
       "    var dataURL = this.canvas.toDataURL();\n",
       "    this.cell_info[1]['text/html'] = '<img src=\"' + dataURL + '\" width=\"' + width + '\">';\n",
       "}\n",
       "\n",
       "mpl.figure.prototype.updated_canvas_event = function() {\n",
       "    // Tell IPython that the notebook contents must change.\n",
       "    IPython.notebook.set_dirty(true);\n",
       "    this.send_message(\"ack\", {});\n",
       "    var fig = this;\n",
       "    // Wait a second, then push the new image to the DOM so\n",
       "    // that it is saved nicely (might be nice to debounce this).\n",
       "    setTimeout(function () { fig.push_to_output() }, 1000);\n",
       "}\n",
       "\n",
       "mpl.figure.prototype._init_toolbar = function() {\n",
       "    var fig = this;\n",
       "\n",
       "    var nav_element = $('<div/>');\n",
       "    nav_element.attr('style', 'width: 100%');\n",
       "    this.root.append(nav_element);\n",
       "\n",
       "    // Define a callback function for later on.\n",
       "    function toolbar_event(event) {\n",
       "        return fig.toolbar_button_onclick(event['data']);\n",
       "    }\n",
       "    function toolbar_mouse_event(event) {\n",
       "        return fig.toolbar_button_onmouseover(event['data']);\n",
       "    }\n",
       "\n",
       "    for(var toolbar_ind in mpl.toolbar_items){\n",
       "        var name = mpl.toolbar_items[toolbar_ind][0];\n",
       "        var tooltip = mpl.toolbar_items[toolbar_ind][1];\n",
       "        var image = mpl.toolbar_items[toolbar_ind][2];\n",
       "        var method_name = mpl.toolbar_items[toolbar_ind][3];\n",
       "\n",
       "        if (!name) { continue; };\n",
       "\n",
       "        var button = $('<button class=\"btn btn-default\" href=\"#\" title=\"' + name + '\"><i class=\"fa ' + image + ' fa-lg\"></i></button>');\n",
       "        button.click(method_name, toolbar_event);\n",
       "        button.mouseover(tooltip, toolbar_mouse_event);\n",
       "        nav_element.append(button);\n",
       "    }\n",
       "\n",
       "    // Add the status bar.\n",
       "    var status_bar = $('<span class=\"mpl-message\" style=\"text-align:right; float: right;\"/>');\n",
       "    nav_element.append(status_bar);\n",
       "    this.message = status_bar[0];\n",
       "\n",
       "    // Add the close button to the window.\n",
       "    var buttongrp = $('<div class=\"btn-group inline pull-right\"></div>');\n",
       "    var button = $('<button class=\"btn btn-mini btn-primary\" href=\"#\" title=\"Stop Interaction\"><i class=\"fa fa-power-off icon-remove icon-large\"></i></button>');\n",
       "    button.click(function (evt) { fig.handle_close(fig, {}); } );\n",
       "    button.mouseover('Stop Interaction', toolbar_mouse_event);\n",
       "    buttongrp.append(button);\n",
       "    var titlebar = this.root.find($('.ui-dialog-titlebar'));\n",
       "    titlebar.prepend(buttongrp);\n",
       "}\n",
       "\n",
       "mpl.figure.prototype._root_extra_style = function(el){\n",
       "    var fig = this\n",
       "    el.on(\"remove\", function(){\n",
       "\tfig.close_ws(fig, {});\n",
       "    });\n",
       "}\n",
       "\n",
       "mpl.figure.prototype._canvas_extra_style = function(el){\n",
       "    // this is important to make the div 'focusable\n",
       "    el.attr('tabindex', 0)\n",
       "    // reach out to IPython and tell the keyboard manager to turn it's self\n",
       "    // off when our div gets focus\n",
       "\n",
       "    // location in version 3\n",
       "    if (IPython.notebook.keyboard_manager) {\n",
       "        IPython.notebook.keyboard_manager.register_events(el);\n",
       "    }\n",
       "    else {\n",
       "        // location in version 2\n",
       "        IPython.keyboard_manager.register_events(el);\n",
       "    }\n",
       "\n",
       "}\n",
       "\n",
       "mpl.figure.prototype._key_event_extra = function(event, name) {\n",
       "    var manager = IPython.notebook.keyboard_manager;\n",
       "    if (!manager)\n",
       "        manager = IPython.keyboard_manager;\n",
       "\n",
       "    // Check for shift+enter\n",
       "    if (event.shiftKey && event.which == 13) {\n",
       "        this.canvas_div.blur();\n",
       "        event.shiftKey = false;\n",
       "        // Send a \"J\" for go to next cell\n",
       "        event.which = 74;\n",
       "        event.keyCode = 74;\n",
       "        manager.command_mode();\n",
       "        manager.handle_keydown(event);\n",
       "    }\n",
       "}\n",
       "\n",
       "mpl.figure.prototype.handle_save = function(fig, msg) {\n",
       "    fig.ondownload(fig, null);\n",
       "}\n",
       "\n",
       "\n",
       "mpl.find_output_cell = function(html_output) {\n",
       "    // Return the cell and output element which can be found *uniquely* in the notebook.\n",
       "    // Note - this is a bit hacky, but it is done because the \"notebook_saving.Notebook\"\n",
       "    // IPython event is triggered only after the cells have been serialised, which for\n",
       "    // our purposes (turning an active figure into a static one), is too late.\n",
       "    var cells = IPython.notebook.get_cells();\n",
       "    var ncells = cells.length;\n",
       "    for (var i=0; i<ncells; i++) {\n",
       "        var cell = cells[i];\n",
       "        if (cell.cell_type === 'code'){\n",
       "            for (var j=0; j<cell.output_area.outputs.length; j++) {\n",
       "                var data = cell.output_area.outputs[j];\n",
       "                if (data.data) {\n",
       "                    // IPython >= 3 moved mimebundle to data attribute of output\n",
       "                    data = data.data;\n",
       "                }\n",
       "                if (data['text/html'] == html_output) {\n",
       "                    return [cell, data, j];\n",
       "                }\n",
       "            }\n",
       "        }\n",
       "    }\n",
       "}\n",
       "\n",
       "// Register the function which deals with the matplotlib target/channel.\n",
       "// The kernel may be null if the page has been refreshed.\n",
       "if (IPython.notebook.kernel != null) {\n",
       "    IPython.notebook.kernel.comm_manager.register_target('matplotlib', mpl.mpl_figure_comm);\n",
       "}\n"
      ],
      "text/plain": [
       "<IPython.core.display.Javascript object>"
      ]
     },
     "metadata": {},
     "output_type": "display_data"
    },
    {
     "data": {
      "text/html": [
       "<img src=\"data:image/png;base64,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\" width=\"640\">"
      ],
      "text/plain": [
       "<IPython.core.display.HTML object>"
      ]
     },
     "metadata": {},
     "output_type": "display_data"
    },
    {
     "data": {
      "text/plain": [
       "<matplotlib.image.AxesImage at 0x1d6eba494e0>"
      ]
     },
     "execution_count": 37,
     "metadata": {},
     "output_type": "execute_result"
    },
    {
     "data": {
      "text/plain": [
       "<matplotlib.image.AxesImage at 0x1d6ebacac88>"
      ]
     },
     "execution_count": 37,
     "metadata": {},
     "output_type": "execute_result"
    },
    {
     "data": {
      "text/plain": [
       "<matplotlib.image.AxesImage at 0x1d6ebadfe80>"
      ]
     },
     "execution_count": 37,
     "metadata": {},
     "output_type": "execute_result"
    },
    {
     "data": {
      "text/plain": [
       "<matplotlib.image.AxesImage at 0x1d6ebadf7b8>"
      ]
     },
     "execution_count": 37,
     "metadata": {},
     "output_type": "execute_result"
    },
    {
     "data": {
      "text/plain": [
       "<matplotlib.image.AxesImage at 0x1d6ebb037f0>"
      ]
     },
     "execution_count": 37,
     "metadata": {},
     "output_type": "execute_result"
    },
    {
     "data": {
      "text/plain": [
       "<matplotlib.image.AxesImage at 0x1d6ebaebfd0>"
      ]
     },
     "execution_count": 37,
     "metadata": {},
     "output_type": "execute_result"
    },
    {
     "data": {
      "text/plain": [
       "<matplotlib.image.AxesImage at 0x1d6ebb182b0>"
      ]
     },
     "execution_count": 37,
     "metadata": {},
     "output_type": "execute_result"
    },
    {
     "data": {
      "text/plain": [
       "<matplotlib.image.AxesImage at 0x1d6ebb06668>"
      ]
     },
     "execution_count": 37,
     "metadata": {},
     "output_type": "execute_result"
    },
    {
     "data": {
      "text/plain": [
       "<matplotlib.image.AxesImage at 0x1d6ebaeb240>"
      ]
     },
     "execution_count": 37,
     "metadata": {},
     "output_type": "execute_result"
    },
    {
     "data": {
      "text/plain": [
       "<matplotlib.image.AxesImage at 0x1d6f301a278>"
      ]
     },
     "execution_count": 37,
     "metadata": {},
     "output_type": "execute_result"
    },
    {
     "data": {
      "text/plain": [
       "<matplotlib.image.AxesImage at 0x1d6ebb0d1d0>"
      ]
     },
     "execution_count": 37,
     "metadata": {},
     "output_type": "execute_result"
    },
    {
     "data": {
      "text/plain": [
       "<matplotlib.image.AxesImage at 0x1d6ebb06f28>"
      ]
     },
     "execution_count": 37,
     "metadata": {},
     "output_type": "execute_result"
    },
    {
     "data": {
      "text/plain": [
       "<matplotlib.image.AxesImage at 0x1d6ebb18a58>"
      ]
     },
     "execution_count": 37,
     "metadata": {},
     "output_type": "execute_result"
    },
    {
     "data": {
      "text/plain": [
       "<matplotlib.image.AxesImage at 0x1d6f301a6d8>"
      ]
     },
     "execution_count": 37,
     "metadata": {},
     "output_type": "execute_result"
    },
    {
     "data": {
      "text/plain": [
       "<matplotlib.image.AxesImage at 0x1d6ebb06dd8>"
      ]
     },
     "execution_count": 37,
     "metadata": {},
     "output_type": "execute_result"
    },
    {
     "data": {
      "text/plain": [
       "<matplotlib.image.AxesImage at 0x1d6ebaefb38>"
      ]
     },
     "execution_count": 37,
     "metadata": {},
     "output_type": "execute_result"
    },
    {
     "data": {
      "text/plain": [
       "<matplotlib.image.AxesImage at 0x1d6f3014c88>"
      ]
     },
     "execution_count": 37,
     "metadata": {},
     "output_type": "execute_result"
    },
    {
     "data": {
      "text/plain": [
       "<matplotlib.image.AxesImage at 0x1d6ebb06e48>"
      ]
     },
     "execution_count": 37,
     "metadata": {},
     "output_type": "execute_result"
    },
    {
     "data": {
      "text/plain": [
       "<matplotlib.image.AxesImage at 0x1d6ebb06fd0>"
      ]
     },
     "execution_count": 37,
     "metadata": {},
     "output_type": "execute_result"
    },
    {
     "data": {
      "text/plain": [
       "<matplotlib.image.AxesImage at 0x1d6f3014eb8>"
      ]
     },
     "execution_count": 37,
     "metadata": {},
     "output_type": "execute_result"
    },
    {
     "data": {
      "text/plain": [
       "<matplotlib.image.AxesImage at 0x1d6f30142b0>"
      ]
     },
     "execution_count": 37,
     "metadata": {},
     "output_type": "execute_result"
    },
    {
     "data": {
      "text/plain": [
       "<matplotlib.image.AxesImage at 0x1d6ebaebef0>"
      ]
     },
     "execution_count": 37,
     "metadata": {},
     "output_type": "execute_result"
    },
    {
     "data": {
      "text/plain": [
       "<matplotlib.image.AxesImage at 0x1d6ebb0d5c0>"
      ]
     },
     "execution_count": 37,
     "metadata": {},
     "output_type": "execute_result"
    },
    {
     "data": {
      "text/plain": [
       "<matplotlib.image.AxesImage at 0x1d6ebaef9b0>"
      ]
     },
     "execution_count": 37,
     "metadata": {},
     "output_type": "execute_result"
    },
    {
     "data": {
      "text/plain": [
       "<matplotlib.image.AxesImage at 0x1d6ebb0d240>"
      ]
     },
     "execution_count": 37,
     "metadata": {},
     "output_type": "execute_result"
    },
    {
     "data": {
      "text/plain": [
       "<matplotlib.image.AxesImage at 0x1d6f3014ef0>"
      ]
     },
     "execution_count": 37,
     "metadata": {},
     "output_type": "execute_result"
    },
    {
     "data": {
      "text/plain": [
       "<matplotlib.image.AxesImage at 0x1d6f3039320>"
      ]
     },
     "execution_count": 37,
     "metadata": {},
     "output_type": "execute_result"
    },
    {
     "data": {
      "text/plain": [
       "<matplotlib.image.AxesImage at 0x1d6ebb18198>"
      ]
     },
     "execution_count": 37,
     "metadata": {},
     "output_type": "execute_result"
    },
    {
     "data": {
      "text/plain": [
       "<matplotlib.image.AxesImage at 0x1d6ebadfbe0>"
      ]
     },
     "execution_count": 37,
     "metadata": {},
     "output_type": "execute_result"
    },
    {
     "data": {
      "text/plain": [
       "<matplotlib.image.AxesImage at 0x1d6f301a550>"
      ]
     },
     "execution_count": 37,
     "metadata": {},
     "output_type": "execute_result"
    },
    {
     "data": {
      "text/plain": [
       "<matplotlib.image.AxesImage at 0x1d6ebb0d550>"
      ]
     },
     "execution_count": 37,
     "metadata": {},
     "output_type": "execute_result"
    },
    {
     "data": {
      "text/plain": [
       "<matplotlib.image.AxesImage at 0x1d6ebb186d8>"
      ]
     },
     "execution_count": 37,
     "metadata": {},
     "output_type": "execute_result"
    },
    {
     "data": {
      "text/plain": [
       "<matplotlib.image.AxesImage at 0x1d6ebaefeb8>"
      ]
     },
     "execution_count": 37,
     "metadata": {},
     "output_type": "execute_result"
    },
    {
     "data": {
      "text/plain": [
       "<matplotlib.image.AxesImage at 0x1d6f30146a0>"
      ]
     },
     "execution_count": 37,
     "metadata": {},
     "output_type": "execute_result"
    },
    {
     "data": {
      "text/plain": [
       "<matplotlib.image.AxesImage at 0x1d6f3014c50>"
      ]
     },
     "execution_count": 37,
     "metadata": {},
     "output_type": "execute_result"
    },
    {
     "data": {
      "text/plain": [
       "<matplotlib.image.AxesImage at 0x1d6f301ab70>"
      ]
     },
     "execution_count": 37,
     "metadata": {},
     "output_type": "execute_result"
    },
    {
     "data": {
      "text/plain": [
       "<matplotlib.image.AxesImage at 0x1d6ebb185f8>"
      ]
     },
     "execution_count": 37,
     "metadata": {},
     "output_type": "execute_result"
    },
    {
     "data": {
      "text/plain": [
       "<matplotlib.image.AxesImage at 0x1d6ebb0dfd0>"
      ]
     },
     "execution_count": 37,
     "metadata": {},
     "output_type": "execute_result"
    },
    {
     "data": {
      "text/plain": [
       "<matplotlib.image.AxesImage at 0x1d6f301e240>"
      ]
     },
     "execution_count": 37,
     "metadata": {},
     "output_type": "execute_result"
    },
    {
     "data": {
      "text/plain": [
       "<matplotlib.image.AxesImage at 0x1d6f4170470>"
      ]
     },
     "execution_count": 37,
     "metadata": {},
     "output_type": "execute_result"
    },
    {
     "data": {
      "text/plain": [
       "<matplotlib.image.AxesImage at 0x1d6f4170278>"
      ]
     },
     "execution_count": 37,
     "metadata": {},
     "output_type": "execute_result"
    },
    {
     "data": {
      "text/plain": [
       "<matplotlib.image.AxesImage at 0x1d6f303beb8>"
      ]
     },
     "execution_count": 37,
     "metadata": {},
     "output_type": "execute_result"
    },
    {
     "data": {
      "text/plain": [
       "<matplotlib.image.AxesImage at 0x1d6f301e080>"
      ]
     },
     "execution_count": 37,
     "metadata": {},
     "output_type": "execute_result"
    },
    {
     "data": {
      "text/plain": [
       "<matplotlib.image.AxesImage at 0x1d6ebb0d128>"
      ]
     },
     "execution_count": 37,
     "metadata": {},
     "output_type": "execute_result"
    },
    {
     "data": {
      "text/plain": [
       "<matplotlib.image.AxesImage at 0x1d6ebb18a90>"
      ]
     },
     "execution_count": 37,
     "metadata": {},
     "output_type": "execute_result"
    },
    {
     "data": {
      "text/plain": [
       "<matplotlib.image.AxesImage at 0x1d6f301e470>"
      ]
     },
     "execution_count": 37,
     "metadata": {},
     "output_type": "execute_result"
    },
    {
     "data": {
      "text/plain": [
       "<matplotlib.image.AxesImage at 0x1d6f41709b0>"
      ]
     },
     "execution_count": 37,
     "metadata": {},
     "output_type": "execute_result"
    },
    {
     "data": {
      "text/plain": [
       "<matplotlib.image.AxesImage at 0x1d6ebb18cc0>"
      ]
     },
     "execution_count": 37,
     "metadata": {},
     "output_type": "execute_result"
    },
    {
     "data": {
      "text/plain": [
       "<matplotlib.image.AxesImage at 0x1d6f30147f0>"
      ]
     },
     "execution_count": 37,
     "metadata": {},
     "output_type": "execute_result"
    },
    {
     "data": {
      "text/plain": [
       "<matplotlib.image.AxesImage at 0x1d6f301e0b8>"
      ]
     },
     "execution_count": 37,
     "metadata": {},
     "output_type": "execute_result"
    },
    {
     "data": {
      "text/plain": [
       "<matplotlib.image.AxesImage at 0x1d6f41975f8>"
      ]
     },
     "execution_count": 37,
     "metadata": {},
     "output_type": "execute_result"
    },
    {
     "data": {
      "text/plain": [
       "<matplotlib.image.AxesImage at 0x1d6f418dda0>"
      ]
     },
     "execution_count": 37,
     "metadata": {},
     "output_type": "execute_result"
    },
    {
     "data": {
      "text/plain": [
       "<matplotlib.image.AxesImage at 0x1d6ebb181d0>"
      ]
     },
     "execution_count": 37,
     "metadata": {},
     "output_type": "execute_result"
    },
    {
     "data": {
      "text/plain": [
       "<matplotlib.image.AxesImage at 0x1d6f30390b8>"
      ]
     },
     "execution_count": 37,
     "metadata": {},
     "output_type": "execute_result"
    },
    {
     "data": {
      "text/plain": [
       "<matplotlib.image.AxesImage at 0x1d6f30391d0>"
      ]
     },
     "execution_count": 37,
     "metadata": {},
     "output_type": "execute_result"
    },
    {
     "data": {
      "text/plain": [
       "<matplotlib.image.AxesImage at 0x1d6f3039e48>"
      ]
     },
     "execution_count": 37,
     "metadata": {},
     "output_type": "execute_result"
    },
    {
     "data": {
      "text/plain": [
       "<matplotlib.image.AxesImage at 0x1d6f301ea20>"
      ]
     },
     "execution_count": 37,
     "metadata": {},
     "output_type": "execute_result"
    },
    {
     "data": {
      "text/plain": [
       "<matplotlib.image.AxesImage at 0x1d6f418dcc0>"
      ]
     },
     "execution_count": 37,
     "metadata": {},
     "output_type": "execute_result"
    },
    {
     "data": {
      "text/plain": [
       "<matplotlib.image.AxesImage at 0x1d6f301e438>"
      ]
     },
     "execution_count": 37,
     "metadata": {},
     "output_type": "execute_result"
    },
    {
     "data": {
      "text/plain": [
       "<matplotlib.image.AxesImage at 0x1d6f3014f98>"
      ]
     },
     "execution_count": 37,
     "metadata": {},
     "output_type": "execute_result"
    },
    {
     "data": {
      "text/plain": [
       "<matplotlib.image.AxesImage at 0x1d6f4197e80>"
      ]
     },
     "execution_count": 37,
     "metadata": {},
     "output_type": "execute_result"
    },
    {
     "data": {
      "text/plain": [
       "<matplotlib.image.AxesImage at 0x1d6f41bada0>"
      ]
     },
     "execution_count": 37,
     "metadata": {},
     "output_type": "execute_result"
    },
    {
     "data": {
      "text/plain": [
       "<matplotlib.image.AxesImage at 0x1d6f30146d8>"
      ]
     },
     "execution_count": 37,
     "metadata": {},
     "output_type": "execute_result"
    },
    {
     "data": {
      "text/plain": [
       "<matplotlib.image.AxesImage at 0x1d6f303b978>"
      ]
     },
     "execution_count": 37,
     "metadata": {},
     "output_type": "execute_result"
    },
    {
     "data": {
      "text/plain": [
       "<matplotlib.image.AxesImage at 0x1d6f41700f0>"
      ]
     },
     "execution_count": 37,
     "metadata": {},
     "output_type": "execute_result"
    },
    {
     "data": {
      "text/plain": [
       "<matplotlib.image.AxesImage at 0x1d6f4170e10>"
      ]
     },
     "execution_count": 37,
     "metadata": {},
     "output_type": "execute_result"
    },
    {
     "data": {
      "text/plain": [
       "<matplotlib.image.AxesImage at 0x1d6f418d198>"
      ]
     },
     "execution_count": 37,
     "metadata": {},
     "output_type": "execute_result"
    },
    {
     "data": {
      "text/plain": [
       "<matplotlib.image.AxesImage at 0x1d6f4197518>"
      ]
     },
     "execution_count": 37,
     "metadata": {},
     "output_type": "execute_result"
    },
    {
     "data": {
      "text/plain": [
       "<matplotlib.image.AxesImage at 0x1d6f41a59b0>"
      ]
     },
     "execution_count": 37,
     "metadata": {},
     "output_type": "execute_result"
    },
    {
     "data": {
      "text/plain": [
       "<matplotlib.image.AxesImage at 0x1d6f303b080>"
      ]
     },
     "execution_count": 37,
     "metadata": {},
     "output_type": "execute_result"
    },
    {
     "data": {
      "text/plain": [
       "<matplotlib.image.AxesImage at 0x1d6f303b048>"
      ]
     },
     "execution_count": 37,
     "metadata": {},
     "output_type": "execute_result"
    },
    {
     "data": {
      "text/plain": [
       "<matplotlib.image.AxesImage at 0x1d6f3014780>"
      ]
     },
     "execution_count": 37,
     "metadata": {},
     "output_type": "execute_result"
    },
    {
     "data": {
      "text/plain": [
       "<matplotlib.image.AxesImage at 0x1d6f3039a90>"
      ]
     },
     "execution_count": 37,
     "metadata": {},
     "output_type": "execute_result"
    },
    {
     "data": {
      "text/plain": [
       "<matplotlib.image.AxesImage at 0x1d6f41a5128>"
      ]
     },
     "execution_count": 37,
     "metadata": {},
     "output_type": "execute_result"
    },
    {
     "data": {
      "text/plain": [
       "<matplotlib.image.AxesImage at 0x1d6f4197cc0>"
      ]
     },
     "execution_count": 37,
     "metadata": {},
     "output_type": "execute_result"
    },
    {
     "data": {
      "text/plain": [
       "<matplotlib.image.AxesImage at 0x1d6f4197cf8>"
      ]
     },
     "execution_count": 37,
     "metadata": {},
     "output_type": "execute_result"
    },
    {
     "data": {
      "text/plain": [
       "<matplotlib.image.AxesImage at 0x1d6f303bcc0>"
      ]
     },
     "execution_count": 37,
     "metadata": {},
     "output_type": "execute_result"
    },
    {
     "data": {
      "text/plain": [
       "<matplotlib.image.AxesImage at 0x1d6f303b7b8>"
      ]
     },
     "execution_count": 37,
     "metadata": {},
     "output_type": "execute_result"
    },
    {
     "data": {
      "text/plain": [
       "<matplotlib.image.AxesImage at 0x1d6f417e080>"
      ]
     },
     "execution_count": 37,
     "metadata": {},
     "output_type": "execute_result"
    },
    {
     "data": {
      "text/plain": [
       "<matplotlib.image.AxesImage at 0x1d6f41d9d68>"
      ]
     },
     "execution_count": 37,
     "metadata": {},
     "output_type": "execute_result"
    },
    {
     "data": {
      "text/plain": [
       "<matplotlib.image.AxesImage at 0x1d6f303b860>"
      ]
     },
     "execution_count": 37,
     "metadata": {},
     "output_type": "execute_result"
    },
    {
     "data": {
      "text/plain": [
       "<matplotlib.image.AxesImage at 0x1d6f41c2780>"
      ]
     },
     "execution_count": 37,
     "metadata": {},
     "output_type": "execute_result"
    },
    {
     "data": {
      "text/plain": [
       "<matplotlib.image.AxesImage at 0x1d6f418dc88>"
      ]
     },
     "execution_count": 37,
     "metadata": {},
     "output_type": "execute_result"
    },
    {
     "data": {
      "text/plain": [
       "<matplotlib.image.AxesImage at 0x1d6f41eedd8>"
      ]
     },
     "execution_count": 37,
     "metadata": {},
     "output_type": "execute_result"
    },
    {
     "data": {
      "text/plain": [
       "<matplotlib.image.AxesImage at 0x1d6f41ee7b8>"
      ]
     },
     "execution_count": 37,
     "metadata": {},
     "output_type": "execute_result"
    },
    {
     "data": {
      "text/plain": [
       "<matplotlib.image.AxesImage at 0x1d6f41eec50>"
      ]
     },
     "execution_count": 37,
     "metadata": {},
     "output_type": "execute_result"
    },
    {
     "ename": "KeyboardInterrupt",
     "evalue": "",
     "output_type": "error",
     "traceback": [
      "\u001b[1;31m---------------------------------------------------------------------------\u001b[0m",
      "\u001b[1;31mKeyboardInterrupt\u001b[0m                         Traceback (most recent call last)",
      "\u001b[1;32m<ipython-input-37-a07abc7145e9>\u001b[0m in \u001b[0;36m<module>\u001b[1;34m\u001b[0m\n\u001b[0;32m     19\u001b[0m     \u001b[0mplt\u001b[0m\u001b[1;33m.\u001b[0m\u001b[0mimshow\u001b[0m\u001b[1;33m(\u001b[0m\u001b[0mnp\u001b[0m\u001b[1;33m.\u001b[0m\u001b[0muint8\u001b[0m\u001b[1;33m(\u001b[0m\u001b[0mimage\u001b[0m\u001b[1;33m)\u001b[0m\u001b[1;33m)\u001b[0m\u001b[1;33m\u001b[0m\u001b[1;33m\u001b[0m\u001b[0m\n\u001b[0;32m     20\u001b[0m     \u001b[0mfig\u001b[0m\u001b[1;33m.\u001b[0m\u001b[0mcanvas\u001b[0m\u001b[1;33m.\u001b[0m\u001b[0mdraw\u001b[0m\u001b[1;33m(\u001b[0m\u001b[1;33m)\u001b[0m\u001b[1;33m\u001b[0m\u001b[1;33m\u001b[0m\u001b[0m\n\u001b[1;32m---> 21\u001b[1;33m     \u001b[0mtime\u001b[0m\u001b[1;33m.\u001b[0m\u001b[0msleep\u001b[0m\u001b[1;33m(\u001b[0m\u001b[1;36m1\u001b[0m\u001b[1;33m)\u001b[0m\u001b[1;33m\u001b[0m\u001b[1;33m\u001b[0m\u001b[0m\n\u001b[0m",
      "\u001b[1;31mKeyboardInterrupt\u001b[0m: "
     ]
    }
   ],
   "source": [
    "# Let's test data augmentation\n",
    "# ----------------------------\n",
    "import time\n",
    "import matplotlib.pyplot as plt\n",
    "\n",
    "%matplotlib notebook\n",
    "\n",
    "fig = plt.figure()\n",
    "ax = fig.gca()\n",
    "fig.show()\n",
    "\n",
    "iterator = iter(train_dataset)\n",
    "\n",
    "for _ in range(1554):\n",
    "    image, target = next(iterator)\n",
    "    image = image[0]   # First element\n",
    "    image = image * 255  # denormalize\n",
    "    \n",
    "    plt.imshow(np.uint8(image))\n",
    "    fig.canvas.draw()\n",
    "    time.sleep(1)"
   ]
  },
  {
   "cell_type": "code",
   "execution_count": 38,
   "metadata": {
    "scrolled": true
   },
   "outputs": [
    {
     "data": {
      "text/plain": [
       "tensorflow.python.data.ops.dataset_ops.DatasetV1Adapter"
      ]
     },
     "execution_count": 38,
     "metadata": {},
     "output_type": "execute_result"
    }
   ],
   "source": [
    "type(train_dataset)"
   ]
  },
  {
   "cell_type": "markdown",
   "metadata": {},
   "source": [
    "# Let's understand information provided in the competition description"
   ]
  },
  {
   "cell_type": "code",
   "execution_count": 44,
   "metadata": {},
   "outputs": [],
   "source": [
    "class_dict = {'school-bus' : 73,\n",
    "    'laptop' : 100,\n",
    "    't-shirt' : 100,\n",
    "    'grand-piano' : 70,\n",
    "    'waterfall' : 70,\n",
    "    'galaxy' : 56,\n",
    "    'mountain-bike' : 57,\n",
    "    'sword' : 77,\n",
    "    'wine-bottle' : 76,\n",
    "    'owl' : 95,\n",
    "    'fireworks' : 75,\n",
    "    'calculator' : 75,\n",
    "    'sheet-music' : 59,\n",
    "    'lightbulb' : 67,\n",
    "    'bear' : 77,\n",
    "    'computer-monitor' : 100,\n",
    "    'airplanes' : 100,\n",
    "    'skyscraper' : 70,\n",
    "    'lightning' : 100,\n",
    "    'kangaroo' : 57}"
   ]
  },
  {
   "cell_type": "code",
   "execution_count": 47,
   "metadata": {},
   "outputs": [
    {
     "data": {
      "text/plain": [
       "1554"
      ]
     },
     "execution_count": 47,
     "metadata": {},
     "output_type": "execute_result"
    }
   ],
   "source": [
    "class_count = 0\n",
    "for key in class_dict.keys():\n",
    "    class_count += class_dict[key]\n",
    "class_count # This information concerns only the input dataset"
   ]
  },
  {
   "cell_type": "markdown",
   "metadata": {},
   "source": [
    "Let's visualize the class information, to have some graphics help.  "
   ]
  },
  {
   "cell_type": "code",
   "execution_count": 54,
   "metadata": {},
   "outputs": [
    {
     "data": {
      "application/javascript": [
       "/* Put everything inside the global mpl namespace */\n",
       "window.mpl = {};\n",
       "\n",
       "\n",
       "mpl.get_websocket_type = function() {\n",
       "    if (typeof(WebSocket) !== 'undefined') {\n",
       "        return WebSocket;\n",
       "    } else if (typeof(MozWebSocket) !== 'undefined') {\n",
       "        return MozWebSocket;\n",
       "    } else {\n",
       "        alert('Your browser does not have WebSocket support. ' +\n",
       "              'Please try Chrome, Safari or Firefox ≥ 6. ' +\n",
       "              'Firefox 4 and 5 are also supported but you ' +\n",
       "              'have to enable WebSockets in about:config.');\n",
       "    };\n",
       "}\n",
       "\n",
       "mpl.figure = function(figure_id, websocket, ondownload, parent_element) {\n",
       "    this.id = figure_id;\n",
       "\n",
       "    this.ws = websocket;\n",
       "\n",
       "    this.supports_binary = (this.ws.binaryType != undefined);\n",
       "\n",
       "    if (!this.supports_binary) {\n",
       "        var warnings = document.getElementById(\"mpl-warnings\");\n",
       "        if (warnings) {\n",
       "            warnings.style.display = 'block';\n",
       "            warnings.textContent = (\n",
       "                \"This browser does not support binary websocket messages. \" +\n",
       "                    \"Performance may be slow.\");\n",
       "        }\n",
       "    }\n",
       "\n",
       "    this.imageObj = new Image();\n",
       "\n",
       "    this.context = undefined;\n",
       "    this.message = undefined;\n",
       "    this.canvas = undefined;\n",
       "    this.rubberband_canvas = undefined;\n",
       "    this.rubberband_context = undefined;\n",
       "    this.format_dropdown = undefined;\n",
       "\n",
       "    this.image_mode = 'full';\n",
       "\n",
       "    this.root = $('<div/>');\n",
       "    this._root_extra_style(this.root)\n",
       "    this.root.attr('style', 'display: inline-block');\n",
       "\n",
       "    $(parent_element).append(this.root);\n",
       "\n",
       "    this._init_header(this);\n",
       "    this._init_canvas(this);\n",
       "    this._init_toolbar(this);\n",
       "\n",
       "    var fig = this;\n",
       "\n",
       "    this.waiting = false;\n",
       "\n",
       "    this.ws.onopen =  function () {\n",
       "            fig.send_message(\"supports_binary\", {value: fig.supports_binary});\n",
       "            fig.send_message(\"send_image_mode\", {});\n",
       "            if (mpl.ratio != 1) {\n",
       "                fig.send_message(\"set_dpi_ratio\", {'dpi_ratio': mpl.ratio});\n",
       "            }\n",
       "            fig.send_message(\"refresh\", {});\n",
       "        }\n",
       "\n",
       "    this.imageObj.onload = function() {\n",
       "            if (fig.image_mode == 'full') {\n",
       "                // Full images could contain transparency (where diff images\n",
       "                // almost always do), so we need to clear the canvas so that\n",
       "                // there is no ghosting.\n",
       "                fig.context.clearRect(0, 0, fig.canvas.width, fig.canvas.height);\n",
       "            }\n",
       "            fig.context.drawImage(fig.imageObj, 0, 0);\n",
       "        };\n",
       "\n",
       "    this.imageObj.onunload = function() {\n",
       "        fig.ws.close();\n",
       "    }\n",
       "\n",
       "    this.ws.onmessage = this._make_on_message_function(this);\n",
       "\n",
       "    this.ondownload = ondownload;\n",
       "}\n",
       "\n",
       "mpl.figure.prototype._init_header = function() {\n",
       "    var titlebar = $(\n",
       "        '<div class=\"ui-dialog-titlebar ui-widget-header ui-corner-all ' +\n",
       "        'ui-helper-clearfix\"/>');\n",
       "    var titletext = $(\n",
       "        '<div class=\"ui-dialog-title\" style=\"width: 100%; ' +\n",
       "        'text-align: center; padding: 3px;\"/>');\n",
       "    titlebar.append(titletext)\n",
       "    this.root.append(titlebar);\n",
       "    this.header = titletext[0];\n",
       "}\n",
       "\n",
       "\n",
       "\n",
       "mpl.figure.prototype._canvas_extra_style = function(canvas_div) {\n",
       "\n",
       "}\n",
       "\n",
       "\n",
       "mpl.figure.prototype._root_extra_style = function(canvas_div) {\n",
       "\n",
       "}\n",
       "\n",
       "mpl.figure.prototype._init_canvas = function() {\n",
       "    var fig = this;\n",
       "\n",
       "    var canvas_div = $('<div/>');\n",
       "\n",
       "    canvas_div.attr('style', 'position: relative; clear: both; outline: 0');\n",
       "\n",
       "    function canvas_keyboard_event(event) {\n",
       "        return fig.key_event(event, event['data']);\n",
       "    }\n",
       "\n",
       "    canvas_div.keydown('key_press', canvas_keyboard_event);\n",
       "    canvas_div.keyup('key_release', canvas_keyboard_event);\n",
       "    this.canvas_div = canvas_div\n",
       "    this._canvas_extra_style(canvas_div)\n",
       "    this.root.append(canvas_div);\n",
       "\n",
       "    var canvas = $('<canvas/>');\n",
       "    canvas.addClass('mpl-canvas');\n",
       "    canvas.attr('style', \"left: 0; top: 0; z-index: 0; outline: 0\")\n",
       "\n",
       "    this.canvas = canvas[0];\n",
       "    this.context = canvas[0].getContext(\"2d\");\n",
       "\n",
       "    var backingStore = this.context.backingStorePixelRatio ||\n",
       "\tthis.context.webkitBackingStorePixelRatio ||\n",
       "\tthis.context.mozBackingStorePixelRatio ||\n",
       "\tthis.context.msBackingStorePixelRatio ||\n",
       "\tthis.context.oBackingStorePixelRatio ||\n",
       "\tthis.context.backingStorePixelRatio || 1;\n",
       "\n",
       "    mpl.ratio = (window.devicePixelRatio || 1) / backingStore;\n",
       "\n",
       "    var rubberband = $('<canvas/>');\n",
       "    rubberband.attr('style', \"position: absolute; left: 0; top: 0; z-index: 1;\")\n",
       "\n",
       "    var pass_mouse_events = true;\n",
       "\n",
       "    canvas_div.resizable({\n",
       "        start: function(event, ui) {\n",
       "            pass_mouse_events = false;\n",
       "        },\n",
       "        resize: function(event, ui) {\n",
       "            fig.request_resize(ui.size.width, ui.size.height);\n",
       "        },\n",
       "        stop: function(event, ui) {\n",
       "            pass_mouse_events = true;\n",
       "            fig.request_resize(ui.size.width, ui.size.height);\n",
       "        },\n",
       "    });\n",
       "\n",
       "    function mouse_event_fn(event) {\n",
       "        if (pass_mouse_events)\n",
       "            return fig.mouse_event(event, event['data']);\n",
       "    }\n",
       "\n",
       "    rubberband.mousedown('button_press', mouse_event_fn);\n",
       "    rubberband.mouseup('button_release', mouse_event_fn);\n",
       "    // Throttle sequential mouse events to 1 every 20ms.\n",
       "    rubberband.mousemove('motion_notify', mouse_event_fn);\n",
       "\n",
       "    rubberband.mouseenter('figure_enter', mouse_event_fn);\n",
       "    rubberband.mouseleave('figure_leave', mouse_event_fn);\n",
       "\n",
       "    canvas_div.on(\"wheel\", function (event) {\n",
       "        event = event.originalEvent;\n",
       "        event['data'] = 'scroll'\n",
       "        if (event.deltaY < 0) {\n",
       "            event.step = 1;\n",
       "        } else {\n",
       "            event.step = -1;\n",
       "        }\n",
       "        mouse_event_fn(event);\n",
       "    });\n",
       "\n",
       "    canvas_div.append(canvas);\n",
       "    canvas_div.append(rubberband);\n",
       "\n",
       "    this.rubberband = rubberband;\n",
       "    this.rubberband_canvas = rubberband[0];\n",
       "    this.rubberband_context = rubberband[0].getContext(\"2d\");\n",
       "    this.rubberband_context.strokeStyle = \"#000000\";\n",
       "\n",
       "    this._resize_canvas = function(width, height) {\n",
       "        // Keep the size of the canvas, canvas container, and rubber band\n",
       "        // canvas in synch.\n",
       "        canvas_div.css('width', width)\n",
       "        canvas_div.css('height', height)\n",
       "\n",
       "        canvas.attr('width', width * mpl.ratio);\n",
       "        canvas.attr('height', height * mpl.ratio);\n",
       "        canvas.attr('style', 'width: ' + width + 'px; height: ' + height + 'px;');\n",
       "\n",
       "        rubberband.attr('width', width);\n",
       "        rubberband.attr('height', height);\n",
       "    }\n",
       "\n",
       "    // Set the figure to an initial 600x600px, this will subsequently be updated\n",
       "    // upon first draw.\n",
       "    this._resize_canvas(600, 600);\n",
       "\n",
       "    // Disable right mouse context menu.\n",
       "    $(this.rubberband_canvas).bind(\"contextmenu\",function(e){\n",
       "        return false;\n",
       "    });\n",
       "\n",
       "    function set_focus () {\n",
       "        canvas.focus();\n",
       "        canvas_div.focus();\n",
       "    }\n",
       "\n",
       "    window.setTimeout(set_focus, 100);\n",
       "}\n",
       "\n",
       "mpl.figure.prototype._init_toolbar = function() {\n",
       "    var fig = this;\n",
       "\n",
       "    var nav_element = $('<div/>');\n",
       "    nav_element.attr('style', 'width: 100%');\n",
       "    this.root.append(nav_element);\n",
       "\n",
       "    // Define a callback function for later on.\n",
       "    function toolbar_event(event) {\n",
       "        return fig.toolbar_button_onclick(event['data']);\n",
       "    }\n",
       "    function toolbar_mouse_event(event) {\n",
       "        return fig.toolbar_button_onmouseover(event['data']);\n",
       "    }\n",
       "\n",
       "    for(var toolbar_ind in mpl.toolbar_items) {\n",
       "        var name = mpl.toolbar_items[toolbar_ind][0];\n",
       "        var tooltip = mpl.toolbar_items[toolbar_ind][1];\n",
       "        var image = mpl.toolbar_items[toolbar_ind][2];\n",
       "        var method_name = mpl.toolbar_items[toolbar_ind][3];\n",
       "\n",
       "        if (!name) {\n",
       "            // put a spacer in here.\n",
       "            continue;\n",
       "        }\n",
       "        var button = $('<button/>');\n",
       "        button.addClass('ui-button ui-widget ui-state-default ui-corner-all ' +\n",
       "                        'ui-button-icon-only');\n",
       "        button.attr('role', 'button');\n",
       "        button.attr('aria-disabled', 'false');\n",
       "        button.click(method_name, toolbar_event);\n",
       "        button.mouseover(tooltip, toolbar_mouse_event);\n",
       "\n",
       "        var icon_img = $('<span/>');\n",
       "        icon_img.addClass('ui-button-icon-primary ui-icon');\n",
       "        icon_img.addClass(image);\n",
       "        icon_img.addClass('ui-corner-all');\n",
       "\n",
       "        var tooltip_span = $('<span/>');\n",
       "        tooltip_span.addClass('ui-button-text');\n",
       "        tooltip_span.html(tooltip);\n",
       "\n",
       "        button.append(icon_img);\n",
       "        button.append(tooltip_span);\n",
       "\n",
       "        nav_element.append(button);\n",
       "    }\n",
       "\n",
       "    var fmt_picker_span = $('<span/>');\n",
       "\n",
       "    var fmt_picker = $('<select/>');\n",
       "    fmt_picker.addClass('mpl-toolbar-option ui-widget ui-widget-content');\n",
       "    fmt_picker_span.append(fmt_picker);\n",
       "    nav_element.append(fmt_picker_span);\n",
       "    this.format_dropdown = fmt_picker[0];\n",
       "\n",
       "    for (var ind in mpl.extensions) {\n",
       "        var fmt = mpl.extensions[ind];\n",
       "        var option = $(\n",
       "            '<option/>', {selected: fmt === mpl.default_extension}).html(fmt);\n",
       "        fmt_picker.append(option);\n",
       "    }\n",
       "\n",
       "    // Add hover states to the ui-buttons\n",
       "    $( \".ui-button\" ).hover(\n",
       "        function() { $(this).addClass(\"ui-state-hover\");},\n",
       "        function() { $(this).removeClass(\"ui-state-hover\");}\n",
       "    );\n",
       "\n",
       "    var status_bar = $('<span class=\"mpl-message\"/>');\n",
       "    nav_element.append(status_bar);\n",
       "    this.message = status_bar[0];\n",
       "}\n",
       "\n",
       "mpl.figure.prototype.request_resize = function(x_pixels, y_pixels) {\n",
       "    // Request matplotlib to resize the figure. Matplotlib will then trigger a resize in the client,\n",
       "    // which will in turn request a refresh of the image.\n",
       "    this.send_message('resize', {'width': x_pixels, 'height': y_pixels});\n",
       "}\n",
       "\n",
       "mpl.figure.prototype.send_message = function(type, properties) {\n",
       "    properties['type'] = type;\n",
       "    properties['figure_id'] = this.id;\n",
       "    this.ws.send(JSON.stringify(properties));\n",
       "}\n",
       "\n",
       "mpl.figure.prototype.send_draw_message = function() {\n",
       "    if (!this.waiting) {\n",
       "        this.waiting = true;\n",
       "        this.ws.send(JSON.stringify({type: \"draw\", figure_id: this.id}));\n",
       "    }\n",
       "}\n",
       "\n",
       "\n",
       "mpl.figure.prototype.handle_save = function(fig, msg) {\n",
       "    var format_dropdown = fig.format_dropdown;\n",
       "    var format = format_dropdown.options[format_dropdown.selectedIndex].value;\n",
       "    fig.ondownload(fig, format);\n",
       "}\n",
       "\n",
       "\n",
       "mpl.figure.prototype.handle_resize = function(fig, msg) {\n",
       "    var size = msg['size'];\n",
       "    if (size[0] != fig.canvas.width || size[1] != fig.canvas.height) {\n",
       "        fig._resize_canvas(size[0], size[1]);\n",
       "        fig.send_message(\"refresh\", {});\n",
       "    };\n",
       "}\n",
       "\n",
       "mpl.figure.prototype.handle_rubberband = function(fig, msg) {\n",
       "    var x0 = msg['x0'] / mpl.ratio;\n",
       "    var y0 = (fig.canvas.height - msg['y0']) / mpl.ratio;\n",
       "    var x1 = msg['x1'] / mpl.ratio;\n",
       "    var y1 = (fig.canvas.height - msg['y1']) / mpl.ratio;\n",
       "    x0 = Math.floor(x0) + 0.5;\n",
       "    y0 = Math.floor(y0) + 0.5;\n",
       "    x1 = Math.floor(x1) + 0.5;\n",
       "    y1 = Math.floor(y1) + 0.5;\n",
       "    var min_x = Math.min(x0, x1);\n",
       "    var min_y = Math.min(y0, y1);\n",
       "    var width = Math.abs(x1 - x0);\n",
       "    var height = Math.abs(y1 - y0);\n",
       "\n",
       "    fig.rubberband_context.clearRect(\n",
       "        0, 0, fig.canvas.width / mpl.ratio, fig.canvas.height / mpl.ratio);\n",
       "\n",
       "    fig.rubberband_context.strokeRect(min_x, min_y, width, height);\n",
       "}\n",
       "\n",
       "mpl.figure.prototype.handle_figure_label = function(fig, msg) {\n",
       "    // Updates the figure title.\n",
       "    fig.header.textContent = msg['label'];\n",
       "}\n",
       "\n",
       "mpl.figure.prototype.handle_cursor = function(fig, msg) {\n",
       "    var cursor = msg['cursor'];\n",
       "    switch(cursor)\n",
       "    {\n",
       "    case 0:\n",
       "        cursor = 'pointer';\n",
       "        break;\n",
       "    case 1:\n",
       "        cursor = 'default';\n",
       "        break;\n",
       "    case 2:\n",
       "        cursor = 'crosshair';\n",
       "        break;\n",
       "    case 3:\n",
       "        cursor = 'move';\n",
       "        break;\n",
       "    }\n",
       "    fig.rubberband_canvas.style.cursor = cursor;\n",
       "}\n",
       "\n",
       "mpl.figure.prototype.handle_message = function(fig, msg) {\n",
       "    fig.message.textContent = msg['message'];\n",
       "}\n",
       "\n",
       "mpl.figure.prototype.handle_draw = function(fig, msg) {\n",
       "    // Request the server to send over a new figure.\n",
       "    fig.send_draw_message();\n",
       "}\n",
       "\n",
       "mpl.figure.prototype.handle_image_mode = function(fig, msg) {\n",
       "    fig.image_mode = msg['mode'];\n",
       "}\n",
       "\n",
       "mpl.figure.prototype.updated_canvas_event = function() {\n",
       "    // Called whenever the canvas gets updated.\n",
       "    this.send_message(\"ack\", {});\n",
       "}\n",
       "\n",
       "// A function to construct a web socket function for onmessage handling.\n",
       "// Called in the figure constructor.\n",
       "mpl.figure.prototype._make_on_message_function = function(fig) {\n",
       "    return function socket_on_message(evt) {\n",
       "        if (evt.data instanceof Blob) {\n",
       "            /* FIXME: We get \"Resource interpreted as Image but\n",
       "             * transferred with MIME type text/plain:\" errors on\n",
       "             * Chrome.  But how to set the MIME type?  It doesn't seem\n",
       "             * to be part of the websocket stream */\n",
       "            evt.data.type = \"image/png\";\n",
       "\n",
       "            /* Free the memory for the previous frames */\n",
       "            if (fig.imageObj.src) {\n",
       "                (window.URL || window.webkitURL).revokeObjectURL(\n",
       "                    fig.imageObj.src);\n",
       "            }\n",
       "\n",
       "            fig.imageObj.src = (window.URL || window.webkitURL).createObjectURL(\n",
       "                evt.data);\n",
       "            fig.updated_canvas_event();\n",
       "            fig.waiting = false;\n",
       "            return;\n",
       "        }\n",
       "        else if (typeof evt.data === 'string' && evt.data.slice(0, 21) == \"data:image/png;base64\") {\n",
       "            fig.imageObj.src = evt.data;\n",
       "            fig.updated_canvas_event();\n",
       "            fig.waiting = false;\n",
       "            return;\n",
       "        }\n",
       "\n",
       "        var msg = JSON.parse(evt.data);\n",
       "        var msg_type = msg['type'];\n",
       "\n",
       "        // Call the  \"handle_{type}\" callback, which takes\n",
       "        // the figure and JSON message as its only arguments.\n",
       "        try {\n",
       "            var callback = fig[\"handle_\" + msg_type];\n",
       "        } catch (e) {\n",
       "            console.log(\"No handler for the '\" + msg_type + \"' message type: \", msg);\n",
       "            return;\n",
       "        }\n",
       "\n",
       "        if (callback) {\n",
       "            try {\n",
       "                // console.log(\"Handling '\" + msg_type + \"' message: \", msg);\n",
       "                callback(fig, msg);\n",
       "            } catch (e) {\n",
       "                console.log(\"Exception inside the 'handler_\" + msg_type + \"' callback:\", e, e.stack, msg);\n",
       "            }\n",
       "        }\n",
       "    };\n",
       "}\n",
       "\n",
       "// from http://stackoverflow.com/questions/1114465/getting-mouse-location-in-canvas\n",
       "mpl.findpos = function(e) {\n",
       "    //this section is from http://www.quirksmode.org/js/events_properties.html\n",
       "    var targ;\n",
       "    if (!e)\n",
       "        e = window.event;\n",
       "    if (e.target)\n",
       "        targ = e.target;\n",
       "    else if (e.srcElement)\n",
       "        targ = e.srcElement;\n",
       "    if (targ.nodeType == 3) // defeat Safari bug\n",
       "        targ = targ.parentNode;\n",
       "\n",
       "    // jQuery normalizes the pageX and pageY\n",
       "    // pageX,Y are the mouse positions relative to the document\n",
       "    // offset() returns the position of the element relative to the document\n",
       "    var x = e.pageX - $(targ).offset().left;\n",
       "    var y = e.pageY - $(targ).offset().top;\n",
       "\n",
       "    return {\"x\": x, \"y\": y};\n",
       "};\n",
       "\n",
       "/*\n",
       " * return a copy of an object with only non-object keys\n",
       " * we need this to avoid circular references\n",
       " * http://stackoverflow.com/a/24161582/3208463\n",
       " */\n",
       "function simpleKeys (original) {\n",
       "  return Object.keys(original).reduce(function (obj, key) {\n",
       "    if (typeof original[key] !== 'object')\n",
       "        obj[key] = original[key]\n",
       "    return obj;\n",
       "  }, {});\n",
       "}\n",
       "\n",
       "mpl.figure.prototype.mouse_event = function(event, name) {\n",
       "    var canvas_pos = mpl.findpos(event)\n",
       "\n",
       "    if (name === 'button_press')\n",
       "    {\n",
       "        this.canvas.focus();\n",
       "        this.canvas_div.focus();\n",
       "    }\n",
       "\n",
       "    var x = canvas_pos.x * mpl.ratio;\n",
       "    var y = canvas_pos.y * mpl.ratio;\n",
       "\n",
       "    this.send_message(name, {x: x, y: y, button: event.button,\n",
       "                             step: event.step,\n",
       "                             guiEvent: simpleKeys(event)});\n",
       "\n",
       "    /* This prevents the web browser from automatically changing to\n",
       "     * the text insertion cursor when the button is pressed.  We want\n",
       "     * to control all of the cursor setting manually through the\n",
       "     * 'cursor' event from matplotlib */\n",
       "    event.preventDefault();\n",
       "    return false;\n",
       "}\n",
       "\n",
       "mpl.figure.prototype._key_event_extra = function(event, name) {\n",
       "    // Handle any extra behaviour associated with a key event\n",
       "}\n",
       "\n",
       "mpl.figure.prototype.key_event = function(event, name) {\n",
       "\n",
       "    // Prevent repeat events\n",
       "    if (name == 'key_press')\n",
       "    {\n",
       "        if (event.which === this._key)\n",
       "            return;\n",
       "        else\n",
       "            this._key = event.which;\n",
       "    }\n",
       "    if (name == 'key_release')\n",
       "        this._key = null;\n",
       "\n",
       "    var value = '';\n",
       "    if (event.ctrlKey && event.which != 17)\n",
       "        value += \"ctrl+\";\n",
       "    if (event.altKey && event.which != 18)\n",
       "        value += \"alt+\";\n",
       "    if (event.shiftKey && event.which != 16)\n",
       "        value += \"shift+\";\n",
       "\n",
       "    value += 'k';\n",
       "    value += event.which.toString();\n",
       "\n",
       "    this._key_event_extra(event, name);\n",
       "\n",
       "    this.send_message(name, {key: value,\n",
       "                             guiEvent: simpleKeys(event)});\n",
       "    return false;\n",
       "}\n",
       "\n",
       "mpl.figure.prototype.toolbar_button_onclick = function(name) {\n",
       "    if (name == 'download') {\n",
       "        this.handle_save(this, null);\n",
       "    } else {\n",
       "        this.send_message(\"toolbar_button\", {name: name});\n",
       "    }\n",
       "};\n",
       "\n",
       "mpl.figure.prototype.toolbar_button_onmouseover = function(tooltip) {\n",
       "    this.message.textContent = tooltip;\n",
       "};\n",
       "mpl.toolbar_items = [[\"Home\", \"Reset original view\", \"fa fa-home icon-home\", \"home\"], [\"Back\", \"Back to previous view\", \"fa fa-arrow-left icon-arrow-left\", \"back\"], [\"Forward\", \"Forward to next view\", \"fa fa-arrow-right icon-arrow-right\", \"forward\"], [\"\", \"\", \"\", \"\"], [\"Pan\", \"Pan axes with left mouse, zoom with right\", \"fa fa-arrows icon-move\", \"pan\"], [\"Zoom\", \"Zoom to rectangle\", \"fa fa-square-o icon-check-empty\", \"zoom\"], [\"\", \"\", \"\", \"\"], [\"Download\", \"Download plot\", \"fa fa-floppy-o icon-save\", \"download\"]];\n",
       "\n",
       "mpl.extensions = [\"eps\", \"jpeg\", \"pdf\", \"png\", \"ps\", \"raw\", \"svg\", \"tif\"];\n",
       "\n",
       "mpl.default_extension = \"png\";var comm_websocket_adapter = function(comm) {\n",
       "    // Create a \"websocket\"-like object which calls the given IPython comm\n",
       "    // object with the appropriate methods. Currently this is a non binary\n",
       "    // socket, so there is still some room for performance tuning.\n",
       "    var ws = {};\n",
       "\n",
       "    ws.close = function() {\n",
       "        comm.close()\n",
       "    };\n",
       "    ws.send = function(m) {\n",
       "        //console.log('sending', m);\n",
       "        comm.send(m);\n",
       "    };\n",
       "    // Register the callback with on_msg.\n",
       "    comm.on_msg(function(msg) {\n",
       "        //console.log('receiving', msg['content']['data'], msg);\n",
       "        // Pass the mpl event to the overridden (by mpl) onmessage function.\n",
       "        ws.onmessage(msg['content']['data'])\n",
       "    });\n",
       "    return ws;\n",
       "}\n",
       "\n",
       "mpl.mpl_figure_comm = function(comm, msg) {\n",
       "    // This is the function which gets called when the mpl process\n",
       "    // starts-up an IPython Comm through the \"matplotlib\" channel.\n",
       "\n",
       "    var id = msg.content.data.id;\n",
       "    // Get hold of the div created by the display call when the Comm\n",
       "    // socket was opened in Python.\n",
       "    var element = $(\"#\" + id);\n",
       "    var ws_proxy = comm_websocket_adapter(comm)\n",
       "\n",
       "    function ondownload(figure, format) {\n",
       "        window.open(figure.imageObj.src);\n",
       "    }\n",
       "\n",
       "    var fig = new mpl.figure(id, ws_proxy,\n",
       "                           ondownload,\n",
       "                           element.get(0));\n",
       "\n",
       "    // Call onopen now - mpl needs it, as it is assuming we've passed it a real\n",
       "    // web socket which is closed, not our websocket->open comm proxy.\n",
       "    ws_proxy.onopen();\n",
       "\n",
       "    fig.parent_element = element.get(0);\n",
       "    fig.cell_info = mpl.find_output_cell(\"<div id='\" + id + \"'></div>\");\n",
       "    if (!fig.cell_info) {\n",
       "        console.error(\"Failed to find cell for figure\", id, fig);\n",
       "        return;\n",
       "    }\n",
       "\n",
       "    var output_index = fig.cell_info[2]\n",
       "    var cell = fig.cell_info[0];\n",
       "\n",
       "};\n",
       "\n",
       "mpl.figure.prototype.handle_close = function(fig, msg) {\n",
       "    var width = fig.canvas.width/mpl.ratio\n",
       "    fig.root.unbind('remove')\n",
       "\n",
       "    // Update the output cell to use the data from the current canvas.\n",
       "    fig.push_to_output();\n",
       "    var dataURL = fig.canvas.toDataURL();\n",
       "    // Re-enable the keyboard manager in IPython - without this line, in FF,\n",
       "    // the notebook keyboard shortcuts fail.\n",
       "    IPython.keyboard_manager.enable()\n",
       "    $(fig.parent_element).html('<img src=\"' + dataURL + '\" width=\"' + width + '\">');\n",
       "    fig.close_ws(fig, msg);\n",
       "}\n",
       "\n",
       "mpl.figure.prototype.close_ws = function(fig, msg){\n",
       "    fig.send_message('closing', msg);\n",
       "    // fig.ws.close()\n",
       "}\n",
       "\n",
       "mpl.figure.prototype.push_to_output = function(remove_interactive) {\n",
       "    // Turn the data on the canvas into data in the output cell.\n",
       "    var width = this.canvas.width/mpl.ratio\n",
       "    var dataURL = this.canvas.toDataURL();\n",
       "    this.cell_info[1]['text/html'] = '<img src=\"' + dataURL + '\" width=\"' + width + '\">';\n",
       "}\n",
       "\n",
       "mpl.figure.prototype.updated_canvas_event = function() {\n",
       "    // Tell IPython that the notebook contents must change.\n",
       "    IPython.notebook.set_dirty(true);\n",
       "    this.send_message(\"ack\", {});\n",
       "    var fig = this;\n",
       "    // Wait a second, then push the new image to the DOM so\n",
       "    // that it is saved nicely (might be nice to debounce this).\n",
       "    setTimeout(function () { fig.push_to_output() }, 1000);\n",
       "}\n",
       "\n",
       "mpl.figure.prototype._init_toolbar = function() {\n",
       "    var fig = this;\n",
       "\n",
       "    var nav_element = $('<div/>');\n",
       "    nav_element.attr('style', 'width: 100%');\n",
       "    this.root.append(nav_element);\n",
       "\n",
       "    // Define a callback function for later on.\n",
       "    function toolbar_event(event) {\n",
       "        return fig.toolbar_button_onclick(event['data']);\n",
       "    }\n",
       "    function toolbar_mouse_event(event) {\n",
       "        return fig.toolbar_button_onmouseover(event['data']);\n",
       "    }\n",
       "\n",
       "    for(var toolbar_ind in mpl.toolbar_items){\n",
       "        var name = mpl.toolbar_items[toolbar_ind][0];\n",
       "        var tooltip = mpl.toolbar_items[toolbar_ind][1];\n",
       "        var image = mpl.toolbar_items[toolbar_ind][2];\n",
       "        var method_name = mpl.toolbar_items[toolbar_ind][3];\n",
       "\n",
       "        if (!name) { continue; };\n",
       "\n",
       "        var button = $('<button class=\"btn btn-default\" href=\"#\" title=\"' + name + '\"><i class=\"fa ' + image + ' fa-lg\"></i></button>');\n",
       "        button.click(method_name, toolbar_event);\n",
       "        button.mouseover(tooltip, toolbar_mouse_event);\n",
       "        nav_element.append(button);\n",
       "    }\n",
       "\n",
       "    // Add the status bar.\n",
       "    var status_bar = $('<span class=\"mpl-message\" style=\"text-align:right; float: right;\"/>');\n",
       "    nav_element.append(status_bar);\n",
       "    this.message = status_bar[0];\n",
       "\n",
       "    // Add the close button to the window.\n",
       "    var buttongrp = $('<div class=\"btn-group inline pull-right\"></div>');\n",
       "    var button = $('<button class=\"btn btn-mini btn-primary\" href=\"#\" title=\"Stop Interaction\"><i class=\"fa fa-power-off icon-remove icon-large\"></i></button>');\n",
       "    button.click(function (evt) { fig.handle_close(fig, {}); } );\n",
       "    button.mouseover('Stop Interaction', toolbar_mouse_event);\n",
       "    buttongrp.append(button);\n",
       "    var titlebar = this.root.find($('.ui-dialog-titlebar'));\n",
       "    titlebar.prepend(buttongrp);\n",
       "}\n",
       "\n",
       "mpl.figure.prototype._root_extra_style = function(el){\n",
       "    var fig = this\n",
       "    el.on(\"remove\", function(){\n",
       "\tfig.close_ws(fig, {});\n",
       "    });\n",
       "}\n",
       "\n",
       "mpl.figure.prototype._canvas_extra_style = function(el){\n",
       "    // this is important to make the div 'focusable\n",
       "    el.attr('tabindex', 0)\n",
       "    // reach out to IPython and tell the keyboard manager to turn it's self\n",
       "    // off when our div gets focus\n",
       "\n",
       "    // location in version 3\n",
       "    if (IPython.notebook.keyboard_manager) {\n",
       "        IPython.notebook.keyboard_manager.register_events(el);\n",
       "    }\n",
       "    else {\n",
       "        // location in version 2\n",
       "        IPython.keyboard_manager.register_events(el);\n",
       "    }\n",
       "\n",
       "}\n",
       "\n",
       "mpl.figure.prototype._key_event_extra = function(event, name) {\n",
       "    var manager = IPython.notebook.keyboard_manager;\n",
       "    if (!manager)\n",
       "        manager = IPython.keyboard_manager;\n",
       "\n",
       "    // Check for shift+enter\n",
       "    if (event.shiftKey && event.which == 13) {\n",
       "        this.canvas_div.blur();\n",
       "        event.shiftKey = false;\n",
       "        // Send a \"J\" for go to next cell\n",
       "        event.which = 74;\n",
       "        event.keyCode = 74;\n",
       "        manager.command_mode();\n",
       "        manager.handle_keydown(event);\n",
       "    }\n",
       "}\n",
       "\n",
       "mpl.figure.prototype.handle_save = function(fig, msg) {\n",
       "    fig.ondownload(fig, null);\n",
       "}\n",
       "\n",
       "\n",
       "mpl.find_output_cell = function(html_output) {\n",
       "    // Return the cell and output element which can be found *uniquely* in the notebook.\n",
       "    // Note - this is a bit hacky, but it is done because the \"notebook_saving.Notebook\"\n",
       "    // IPython event is triggered only after the cells have been serialised, which for\n",
       "    // our purposes (turning an active figure into a static one), is too late.\n",
       "    var cells = IPython.notebook.get_cells();\n",
       "    var ncells = cells.length;\n",
       "    for (var i=0; i<ncells; i++) {\n",
       "        var cell = cells[i];\n",
       "        if (cell.cell_type === 'code'){\n",
       "            for (var j=0; j<cell.output_area.outputs.length; j++) {\n",
       "                var data = cell.output_area.outputs[j];\n",
       "                if (data.data) {\n",
       "                    // IPython >= 3 moved mimebundle to data attribute of output\n",
       "                    data = data.data;\n",
       "                }\n",
       "                if (data['text/html'] == html_output) {\n",
       "                    return [cell, data, j];\n",
       "                }\n",
       "            }\n",
       "        }\n",
       "    }\n",
       "}\n",
       "\n",
       "// Register the function which deals with the matplotlib target/channel.\n",
       "// The kernel may be null if the page has been refreshed.\n",
       "if (IPython.notebook.kernel != null) {\n",
       "    IPython.notebook.kernel.comm_manager.register_target('matplotlib', mpl.mpl_figure_comm);\n",
       "}\n"
      ],
      "text/plain": [
       "<IPython.core.display.Javascript object>"
      ]
     },
     "metadata": {},
     "output_type": "display_data"
    },
    {
     "data": {
      "text/html": [
       "<img src=\"data:image/png;base64,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\" width=\"640\">"
      ],
      "text/plain": [
       "<IPython.core.display.HTML object>"
      ]
     },
     "metadata": {},
     "output_type": "display_data"
    },
    {
     "data": {
      "text/plain": [
       "<BarContainer object of 20 artists>"
      ]
     },
     "execution_count": 54,
     "metadata": {},
     "output_type": "execute_result"
    },
    {
     "data": {
      "text/plain": [
       "([<matplotlib.axis.XTick at 0x1d6f6d4d2b0>,\n",
       "  <matplotlib.axis.XTick at 0x1d6f6c18748>,\n",
       "  <matplotlib.axis.XTick at 0x1d6f6c185c0>,\n",
       "  <matplotlib.axis.XTick at 0x1d6f6d8e668>,\n",
       "  <matplotlib.axis.XTick at 0x1d6f6d8eba8>,\n",
       "  <matplotlib.axis.XTick at 0x1d6f6d81160>,\n",
       "  <matplotlib.axis.XTick at 0x1d6f6d816d8>,\n",
       "  <matplotlib.axis.XTick at 0x1d6f6d8e9b0>,\n",
       "  <matplotlib.axis.XTick at 0x1d6f6d81d68>,\n",
       "  <matplotlib.axis.XTick at 0x1d6f6d972e8>,\n",
       "  <matplotlib.axis.XTick at 0x1d6f6d977b8>,\n",
       "  <matplotlib.axis.XTick at 0x1d6f6d97c88>,\n",
       "  <matplotlib.axis.XTick at 0x1d6f6db2240>,\n",
       "  <matplotlib.axis.XTick at 0x1d6f6db27b8>,\n",
       "  <matplotlib.axis.XTick at 0x1d6f6db2d30>,\n",
       "  <matplotlib.axis.XTick at 0x1d6f6dbb2e8>,\n",
       "  <matplotlib.axis.XTick at 0x1d6f6dbb860>,\n",
       "  <matplotlib.axis.XTick at 0x1d6f6db2898>,\n",
       "  <matplotlib.axis.XTick at 0x1d6f6d97160>,\n",
       "  <matplotlib.axis.XTick at 0x1d6f6dbb0f0>],\n",
       " <a list of 20 Text xticklabel objects>)"
      ]
     },
     "execution_count": 54,
     "metadata": {},
     "output_type": "execute_result"
    },
    {
     "data": {
      "text/plain": [
       "(array([ 0,  1,  2,  3,  4,  5,  6,  7,  8,  9, 10, 11, 12, 13, 14, 15, 16,\n",
       "        17, 18, 19]), <a list of 20 Text xticklabel objects>)"
      ]
     },
     "execution_count": 54,
     "metadata": {},
     "output_type": "execute_result"
    },
    {
     "data": {
      "text/plain": [
       "Text(0.5, 1.0, 'Class distribution in the training set')"
      ]
     },
     "execution_count": 54,
     "metadata": {},
     "output_type": "execute_result"
    },
    {
     "data": {
      "text/plain": [
       "Text(0.5, 0, 'Class names')"
      ]
     },
     "execution_count": 54,
     "metadata": {},
     "output_type": "execute_result"
    },
    {
     "data": {
      "text/plain": [
       "Text(0, 0.5, 'Class count')"
      ]
     },
     "execution_count": 54,
     "metadata": {},
     "output_type": "execute_result"
    }
   ],
   "source": [
    "import matplotlib.pyplot as plt\n",
    "%matplotlib notebook\n",
    "\n",
    "D=class_dict\n",
    "plt.bar(range(len(D)), D.values(), align='center')\n",
    "plt.xticks(range(len(D)), list(D.keys()))\n",
    "plt.xticks(rotation=90)\n",
    "plt.title(\"Class distribution in the training set\")\n",
    "plt.xlabel(\"Class names\")\n",
    "plt.ylabel(\"Class count\")\n",
    "\n",
    "plt.show()"
   ]
  },
  {
   "cell_type": "code",
   "execution_count": null,
   "metadata": {},
   "outputs": [],
   "source": []
  },
  {
   "cell_type": "code",
   "execution_count": null,
   "metadata": {},
   "outputs": [],
   "source": []
  }
 ],
 "metadata": {
  "kernelspec": {
   "display_name": "Python 3",
   "language": "python",
   "name": "python3"
  },
  "language_info": {
   "codemirror_mode": {
    "name": "ipython",
    "version": 3
   },
   "file_extension": ".py",
   "mimetype": "text/x-python",
   "name": "python",
   "nbconvert_exporter": "python",
   "pygments_lexer": "ipython3",
   "version": "3.6.9"
  }
 },
 "nbformat": 4,
 "nbformat_minor": 1
}
